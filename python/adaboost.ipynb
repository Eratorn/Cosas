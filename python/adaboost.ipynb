{
 "cells": [
  {
   "cell_type": "code",
   "execution_count": null,
   "metadata": {},
   "outputs": [],
   "source": [
    "from sklearn import datasets\n",
    "from sklearn.tree import DecisionTreeClassifier\n",
    "import numpy as np\n",
    "\n",
    "class SMME:\n",
    "    def __init__(self, n_estimators=10):\n",
    "        self.n_estimators = n_estimators\n",
    "        self.estimators = [DecisionTreeClassifier(max_depth=1) for _ in range(n_estimators)] \n",
    "\n",
    "    def fit(self, x, y):\n",
    "        n = x.shape[0]\n",
    "        weights = np.array([1 / n] * n)\n",
    "        indices = list(range(n))\n",
    "        self.categories = len(np.unique(y))\n",
    "        self.alphas = [0] * self.n_estimators\n",
    "        def get_dataset_from(weights):\n",
    "            new_indices = np.random.choice(indices, size=n, replace=True, p=weights)\n",
    "            return x[new_indices], y[new_indices]\n",
    "        x_train = x\n",
    "        y_train = y\n",
    "        for m in range(self.n_estimators):\n",
    "            self.estimators[m].fit(x_train, y_train)\n",
    "            predictions = self.estimators[m].predict(x)\n",
    "            err = np.dot(weights, predictions != y) / np.sum(weights)\n",
    "            alpha = np.log((1- err) / err) + np.log(self.categories - 1)\n",
    "            weights = weights * np.exp(alpha * (predictions != y))\n",
    "            weights /= np.sum(weights)\n",
    "            x_train, y_train = get_dataset_from(weights)\n",
    "            self.alphas[m] = alpha\n",
    "    \n",
    "    def predict(self, x):\n",
    "        def weighetd_prediction(k):\n",
    "            prediction = 0\n",
    "            for m in range(self.n_estimators):\n",
    "                p = self.estimators[m].predict([x])\n",
    "                prediction += self.alphas[m] * (p[0] == k)\n",
    "            return prediction\n",
    "        predicted_class = None\n",
    "        maximum = -np.inf\n",
    "        for k in range(self.categories):\n",
    "            wp = weighetd_prediction(k)\n",
    "            if wp > maximum: \n",
    "                maximum = wp\n",
    "                predicted_class = k\n",
    "        return predicted_class\n",
    "\n"
   ]
  },
  {
   "cell_type": "code",
   "execution_count": 111,
   "metadata": {},
   "outputs": [],
   "source": [
    "np.random.seed(0)\n",
    "x, y = datasets.load_wine(return_X_y=True)\n",
    "adaboost = SMME(10)\n",
    "adaboost.fit(x, y)"
   ]
  },
  {
   "cell_type": "code",
   "execution_count": 112,
   "metadata": {},
   "outputs": [
    {
     "name": "stdout",
     "output_type": "stream",
     "text": [
      "176 178\n"
     ]
    }
   ],
   "source": [
    "ok = 0\n",
    "\n",
    "for x_, y_ in zip(x, y):\n",
    "    if adaboost.predict(x_) == y_:\n",
    "        ok += 1\n",
    "\n",
    "print(ok, y.shape[0])"
   ]
  }
 ],
 "metadata": {
  "kernelspec": {
   "display_name": "ml",
   "language": "python",
   "name": "python3"
  },
  "language_info": {
   "codemirror_mode": {
    "name": "ipython",
    "version": 3
   },
   "file_extension": ".py",
   "mimetype": "text/x-python",
   "name": "python",
   "nbconvert_exporter": "python",
   "pygments_lexer": "ipython3",
   "version": "3.10.9"
  }
 },
 "nbformat": 4,
 "nbformat_minor": 2
}
